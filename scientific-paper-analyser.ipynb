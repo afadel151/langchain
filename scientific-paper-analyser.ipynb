{
 "cells": [
  {
   "cell_type": "code",
   "execution_count": 62,
   "id": "20007a84",
   "metadata": {},
   "outputs": [],
   "source": [
    "import getpass\n",
    "import os\n",
    "\n",
    "if not os.getenv(\"HUGGINGFACEHUB_API_TOKEN\"):\n",
    "    os.environ[\"HUGGINGFACEHUB_API_TOKEN\"] = getpass.getpass(\"Enter your token: \")\n",
    "if not os.environ.get(\"GOOGLE_API_KEY\"):\n",
    "  os.environ[\"GOOGLE_API_KEY\"] = getpass.getpass(\"Enter API key for Google Gemini: \")\n"
   ]
  },
  {
   "cell_type": "code",
   "execution_count": 91,
   "id": "fdef6fb8",
   "metadata": {},
   "outputs": [],
   "source": [
    "from langchain_huggingface import ChatHuggingFace, HuggingFaceEndpoint\n",
    "from langchain.chat_models import init_chat_model\n",
    "chat_model = init_chat_model(\"gemini-2.0-flash\", model_provider=\"google_genai\")\n"
   ]
  },
  {
   "cell_type": "code",
   "execution_count": 92,
   "id": "7fc551b6",
   "metadata": {},
   "outputs": [],
   "source": [
    "from langchain.prompts import SystemMessagePromptTemplate, HumanMessagePromptTemplate\n",
    "\n",
    "system_prompt = SystemMessagePromptTemplate.from_template(\n",
    "    \"you are a scientific writer\"\n",
    ")\n",
    "\n",
    "user_prompt = HumanMessagePromptTemplate.from_template(\n",
    "    \"\"\"You are tasked with creating a simplified version for high school students from this paper \n",
    "    ----\n",
    "    {paper}\n",
    "    ----\n",
    "    then, Generate a creative title for the simplified paper. Also extract related terms and research areas\n",
    "    \n",
    "    \"\"\",\n",
    "    input_variables=['paper']\n",
    ")\n"
   ]
  },
  {
   "cell_type": "code",
   "execution_count": 93,
   "id": "cdb55ee8",
   "metadata": {},
   "outputs": [
    {
     "name": "stdout",
     "output_type": "stream",
     "text": [
      "================================\u001b[1m Human Message \u001b[0m=================================\n",
      "\n",
      "You are tasked with creating a simplified version for high school students from this paper \n",
      "    ----\n",
      "    TEST STRING\n",
      "    ----\n",
      "    then, Generate a creative title for the simplified paper. Also extract related terms and research areas\n",
      "\n",
      "    \n"
     ]
    }
   ],
   "source": [
    "user_prompt.format(paper=\"TEST STRING\").pretty_print()"
   ]
  },
  {
   "cell_type": "code",
   "execution_count": 94,
   "id": "ef74ea37",
   "metadata": {},
   "outputs": [],
   "source": [
    "paper = \"\"\" \n",
    "Title: The Role of Gut Microbiota in Human Health and Disease\n",
    "\n",
    "Abstract:\n",
    "The human gastrointestinal tract harbors a complex and dynamic population of microorganisms known as the gut microbiota. \n",
    "These microbes perform essential functions including aiding digestion, regulating immune responses, and synthesizing vitamins. \n",
    "Disruptions to this microbial community, termed dysbiosis, have been linked to a range of diseases such as obesity, type 2 diabetes, inflammatory bowel disease, and even neurological disorders. \n",
    "Recent advances in sequencing technologies have enabled researchers to better understand the diversity and functional capacity of the gut microbiome, opening avenues for novel therapeutic strategies such as probiotics, prebiotics, and fecal microbiota transplantation.\n",
    "\"\"\""
   ]
  },
  {
   "cell_type": "code",
   "execution_count": 95,
   "id": "ca9d3076",
   "metadata": {},
   "outputs": [],
   "source": [
    "from langchain.prompts import ChatPromptTemplate\n",
    "first_prompt = ChatPromptTemplate.from_messages([system_prompt,user_prompt])"
   ]
  },
  {
   "cell_type": "code",
   "execution_count": 96,
   "id": "9448f9a4",
   "metadata": {},
   "outputs": [],
   "source": [
    "chain_one = (\n",
    "    {\"paper\" : lambda x: x[\"paper\"]}\n",
    "    | first_prompt\n",
    "    | chat_model\n",
    "    |{\"simplified_paper\": lambda x: x.content}\n",
    ")\n"
   ]
  },
  {
   "cell_type": "code",
   "execution_count": null,
   "id": "5da07d95",
   "metadata": {},
   "outputs": [],
   "source": [
    "simplified_paper = chain_one.invoke({\"paper\": paper})"
   ]
  },
  {
   "cell_type": "code",
   "execution_count": null,
   "id": "cedef72d",
   "metadata": {},
   "outputs": [
    {
     "name": "stdout",
     "output_type": "stream",
     "text": [
      "{'simplified_paper': 'Okay, here\\'s a simplified version of that abstract, geared towards high school students:\\n\\n**Title: Your Gut Buddies: How Bacteria in Your Stomach Affect Your Health**\\n\\n**Simplified Explanation:**\\n\\nImagine your stomach and intestines as a bustling city filled with trillions of tiny residents – bacteria, viruses, and fungi.  This community is called the **gut microbiota** (or gut microbiome). These aren\\'t just freeloaders; they\\'re helpful workers!\\n\\n*   **They help you digest food:** Think of them as breaking down complex foods your body can\\'t handle on its own, like certain types of fiber.\\n*   **They train your immune system:** They help your body learn to tell the difference between friend (good bacteria) and foe (harmful invaders), keeping you healthy.\\n*   **They make vitamins:** Some bacteria actually produce vitamins like Vitamin K and some B vitamins, which your body needs.\\n\\nWhen this community of microbes is balanced and happy, everything runs smoothly. But sometimes, things can get out of whack – this is called **dysbiosis**.  Dysbiosis is like a city-wide strike; things start to fall apart. Scientists are finding that dysbiosis is linked to several diseases, including:\\n\\n*   **Obesity and Type 2 Diabetes:** Problems with blood sugar and weight.\\n*   **Inflammatory Bowel Disease (IBD):**  Inflammation and irritation in the digestive system.\\n*   **Even some brain disorders:**  Scientists are discovering connections between the gut and the brain.\\n\\nLuckily, scientists now have better tools (like advanced DNA sequencing) to study the gut microbiota in detail.  This is leading to new treatments to help restore a healthy gut balance, such as:\\n\\n*   **Probiotics:**  Introducing \"good\" bacteria to the gut. Think of these as reinforcements of good workers\\n*   **Prebiotics:**  Feeding the \"good\" bacteria already in your gut. Think of these as nutrients that help the good workers thrive.\\n*   **Fecal Microbiota Transplantation (FMT):**  Replacing a damaged gut microbiota with a healthy one from a donor. Think of this as replacing the whole staff with a better one.\\n\\nIn short, understanding your gut microbiota is key to understanding your overall health!'}\n"
     ]
    }
   ],
   "source": [
    "print(simplified_paper)"
   ]
  },
  {
   "cell_type": "code",
   "execution_count": 97,
   "id": "ed06eb56",
   "metadata": {},
   "outputs": [],
   "source": [
    "from pydantic import BaseModel, Field\n",
    "\n",
    "class Paper(BaseModel):\n",
    "    original_paper: str = Field(description=\"The original scientific paper\")\n",
    "    simplified_paper: str = Field(description=\"The simplified scientific paper\")\n",
    "    simplified_paper_title: str = Field(description=(\n",
    "        \"The title for the simplified paper\"\n",
    "    ))"
   ]
  },
  {
   "cell_type": "code",
   "execution_count": 98,
   "id": "6a4b9ab0",
   "metadata": {},
   "outputs": [],
   "source": [
    "structured_llm = chat_model.with_structured_output(Paper)"
   ]
  },
  {
   "cell_type": "code",
   "execution_count": 99,
   "id": "061737d7",
   "metadata": {},
   "outputs": [],
   "source": [
    "chain_three = (\n",
    "    {\"paper\": lambda x: x[\"paper\"]}\n",
    "    | first_prompt\n",
    "    | structured_llm\n",
    "    | {\n",
    "        \"original_paper\": lambda x: x.original_paper,\n",
    "        \"simplified_paper\": lambda x: x.simplified_paper,\n",
    "        \"simplified_paper_title\": lambda x: x.simplified_paper_title\n",
    "    }\n",
    ")"
   ]
  },
  {
   "cell_type": "code",
   "execution_count": 100,
   "id": "fc59a458",
   "metadata": {},
   "outputs": [],
   "source": [
    "out = chain_three.invoke({\"paper\": paper})\n"
   ]
  },
  {
   "cell_type": "code",
   "execution_count": 104,
   "id": "57a22ad4",
   "metadata": {},
   "outputs": [
    {
     "name": "stdout",
     "output_type": "stream",
     "text": [
      "\n",
      "======================================================================================================================================================\n",
      "🔍 Output from chain_three:\n",
      "======================================================================================================================================================\n",
      "\n",
      "📄 Original Paper:\n",
      "\n",
      "The human gastrointestinal tract harbors a complex and dynamic population of microorganisms known as the gut microbiota.  These microbes perform\n",
      "essential functions including aiding digestion, regulating immune responses, and synthesizing vitamins.  Disruptions to this microbial community,\n",
      "termed dysbiosis, have been linked to a range of diseases such as obesity, type 2 diabetes, inflammatory bowel disease, and even neurological\n",
      "disorders.  Recent advances in sequencing technologies have enabled researchers to better understand the diversity and functional capacity of the gut\n",
      "microbiome, opening avenues for novel therapeutic strategies such as probiotics, prebiotics, and fecal microbiota transplantation.\n",
      "\n",
      "------------------------------------------------------------------------------------------------------------------------------------------------------\n",
      "📝 Simplified Paper Title:\n",
      "\n",
      "Your Gut Buddies: How Bacteria Affect Your Health\n",
      "\n",
      "------------------------------------------------------------------------------------------------------------------------------------------------------\n",
      "🔬 Simplified Paper:\n",
      "\n",
      "Our digestive system is home to trillions of tiny organisms, mainly bacteria, which we collectively call the gut microbiota. These bacteria help us\n",
      "digest food, train our immune system, and even make vitamins. When the balance of these bacteria is disturbed, a condition called dysbiosis, it can\n",
      "lead to diseases like obesity, type 2 diabetes, and inflammatory bowel disease. Scientists are now using new technologies to study these bacteria and\n",
      "are exploring treatments like probiotics and prebiotics that can help restore a healthy gut.\n",
      "\n",
      "------------------------------------------------------------------------------------------------------------------------------------------------------\n",
      "======================================================================================================================================================\n"
     ]
    }
   ],
   "source": [
    "import textwrap\n",
    "\n",
    "WRAP_WIDTH = 150  # Adjust based on your terminal size\n",
    "\n",
    "def wrapped_print(title, content):\n",
    "    print(f\"{title}\\n\")\n",
    "    print(textwrap.fill(content, width=WRAP_WIDTH))\n",
    "    print(\"\\n\" + \"-\" * WRAP_WIDTH)\n",
    "\n",
    "print(\"\\n\" + \"=\" * WRAP_WIDTH)\n",
    "print(\"🔍 Output from chain_three:\")\n",
    "print(\"=\" * WRAP_WIDTH + \"\\n\")\n",
    "\n",
    "wrapped_print(\"📄 Original Paper:\", out[\"original_paper\"])\n",
    "wrapped_print(\"📝 Simplified Paper Title:\", out[\"simplified_paper_title\"])\n",
    "wrapped_print(\"🔬 Simplified Paper:\", out[\"simplified_paper\"])\n",
    "\n",
    "print(\"=\" * WRAP_WIDTH)\n"
   ]
  }
 ],
 "metadata": {
  "kernelspec": {
   "display_name": "venv",
   "language": "python",
   "name": "python3"
  },
  "language_info": {
   "codemirror_mode": {
    "name": "ipython",
    "version": 3
   },
   "file_extension": ".py",
   "mimetype": "text/x-python",
   "name": "python",
   "nbconvert_exporter": "python",
   "pygments_lexer": "ipython3",
   "version": "3.12.3"
  }
 },
 "nbformat": 4,
 "nbformat_minor": 5
}
