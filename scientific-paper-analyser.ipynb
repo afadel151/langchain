{
 "cells": [
  {
   "cell_type": "code",
   "execution_count": 62,
   "id": "20007a84",
   "metadata": {},
   "outputs": [],
   "source": [
    "import getpass\n",
    "import os\n",
    "\n",
    "if not os.getenv(\"HUGGINGFACEHUB_API_TOKEN\"):\n",
    "    os.environ[\"HUGGINGFACEHUB_API_TOKEN\"] = getpass.getpass(\"Enter your token: \")\n",
    "if not os.environ.get(\"GOOGLE_API_KEY\"):\n",
    "  os.environ[\"GOOGLE_API_KEY\"] = getpass.getpass(\"Enter API key for Google Gemini: \")\n"
   ]
  },
  {
   "cell_type": "code",
   "execution_count": 64,
   "id": "fdef6fb8",
   "metadata": {},
   "outputs": [],
   "source": [
    "from langchain_huggingface import ChatHuggingFace, HuggingFaceEndpoint\n",
    "from langchain.chat_models import init_chat_model\n",
    "chat_model = init_chat_model(\"gemini-2.0-flash\", model_provider=\"google_genai\")\n"
   ]
  },
  {
   "cell_type": "code",
   "execution_count": 65,
   "id": "7fc551b6",
   "metadata": {},
   "outputs": [],
   "source": [
    "from langchain.prompts import SystemMessagePromptTemplate, HumanMessagePromptTemplate\n",
    "\n",
    "system_prompt = SystemMessagePromptTemplate.from_template(\n",
    "    \"you are a scientific writer\"\n",
    ")\n",
    "\n",
    "user_prompt = HumanMessagePromptTemplate.from_template(\n",
    "    \"You are tasked with creating a simplified version for high school students from this paper : {paper}\",\n",
    "    input_variables=['paper']\n",
    ")\n"
   ]
  },
  {
   "cell_type": "code",
   "execution_count": 66,
   "id": "cdb55ee8",
   "metadata": {},
   "outputs": [
    {
     "name": "stdout",
     "output_type": "stream",
     "text": [
      "================================\u001b[1m Human Message \u001b[0m=================================\n",
      "\n",
      "You are tasked with creating a simplified version for high school students from this paper : TEST STRING\n"
     ]
    }
   ],
   "source": [
    "user_prompt.format(paper=\"TEST STRING\").pretty_print()"
   ]
  },
  {
   "cell_type": "code",
   "execution_count": 67,
   "id": "ef74ea37",
   "metadata": {},
   "outputs": [],
   "source": [
    "paper = \"\"\" \n",
    "Title: The Role of Gut Microbiota in Human Health and Disease\n",
    "\n",
    "Abstract:\n",
    "The human gastrointestinal tract harbors a complex and dynamic population of microorganisms known as the gut microbiota. \n",
    "These microbes perform essential functions including aiding digestion, regulating immune responses, and synthesizing vitamins. \n",
    "Disruptions to this microbial community, termed dysbiosis, have been linked to a range of diseases such as obesity, type 2 diabetes, inflammatory bowel disease, and even neurological disorders. \n",
    "Recent advances in sequencing technologies have enabled researchers to better understand the diversity and functional capacity of the gut microbiome, opening avenues for novel therapeutic strategies such as probiotics, prebiotics, and fecal microbiota transplantation.\n",
    "\"\"\""
   ]
  },
  {
   "cell_type": "code",
   "execution_count": 68,
   "id": "ca9d3076",
   "metadata": {},
   "outputs": [],
   "source": [
    "from langchain.prompts import ChatPromptTemplate\n",
    "first_prompt = ChatPromptTemplate.from_messages([system_prompt,user_prompt])"
   ]
  },
  {
   "cell_type": "code",
   "execution_count": 72,
   "id": "9448f9a4",
   "metadata": {},
   "outputs": [],
   "source": [
    "chain_one = (\n",
    "    {\"paper\" : lambda x: x[\"paper\"]}\n",
    "    | first_prompt\n",
    "    | chat_model\n",
    "    |{\"simplified_paper\": lambda x: x.content}\n",
    ")\n"
   ]
  },
  {
   "cell_type": "code",
   "execution_count": null,
   "id": "5da07d95",
   "metadata": {},
   "outputs": [],
   "source": [
    "simplified_paper = chain_one.invoke({\"paper\": paper})"
   ]
  },
  {
   "cell_type": "code",
   "execution_count": null,
   "id": "cedef72d",
   "metadata": {},
   "outputs": [
    {
     "name": "stdout",
     "output_type": "stream",
     "text": [
      "{'simplified_paper': 'Okay, here\\'s a simplified version of that abstract, geared towards high school students:\\n\\n**Title: Your Gut Buddies: How Bacteria in Your Stomach Affect Your Health**\\n\\n**Simplified Explanation:**\\n\\nImagine your stomach and intestines as a bustling city filled with trillions of tiny residents – bacteria, viruses, and fungi.  This community is called the **gut microbiota** (or gut microbiome). These aren\\'t just freeloaders; they\\'re helpful workers!\\n\\n*   **They help you digest food:** Think of them as breaking down complex foods your body can\\'t handle on its own, like certain types of fiber.\\n*   **They train your immune system:** They help your body learn to tell the difference between friend (good bacteria) and foe (harmful invaders), keeping you healthy.\\n*   **They make vitamins:** Some bacteria actually produce vitamins like Vitamin K and some B vitamins, which your body needs.\\n\\nWhen this community of microbes is balanced and happy, everything runs smoothly. But sometimes, things can get out of whack – this is called **dysbiosis**.  Dysbiosis is like a city-wide strike; things start to fall apart. Scientists are finding that dysbiosis is linked to several diseases, including:\\n\\n*   **Obesity and Type 2 Diabetes:** Problems with blood sugar and weight.\\n*   **Inflammatory Bowel Disease (IBD):**  Inflammation and irritation in the digestive system.\\n*   **Even some brain disorders:**  Scientists are discovering connections between the gut and the brain.\\n\\nLuckily, scientists now have better tools (like advanced DNA sequencing) to study the gut microbiota in detail.  This is leading to new treatments to help restore a healthy gut balance, such as:\\n\\n*   **Probiotics:**  Introducing \"good\" bacteria to the gut. Think of these as reinforcements of good workers\\n*   **Prebiotics:**  Feeding the \"good\" bacteria already in your gut. Think of these as nutrients that help the good workers thrive.\\n*   **Fecal Microbiota Transplantation (FMT):**  Replacing a damaged gut microbiota with a healthy one from a donor. Think of this as replacing the whole staff with a better one.\\n\\nIn short, understanding your gut microbiota is key to understanding your overall health!'}\n"
     ]
    }
   ],
   "source": [
    "print(simplified_paper)"
   ]
  }
 ],
 "metadata": {
  "kernelspec": {
   "display_name": "venv",
   "language": "python",
   "name": "python3"
  },
  "language_info": {
   "codemirror_mode": {
    "name": "ipython",
    "version": 3
   },
   "file_extension": ".py",
   "mimetype": "text/x-python",
   "name": "python",
   "nbconvert_exporter": "python",
   "pygments_lexer": "ipython3",
   "version": "3.12.3"
  }
 },
 "nbformat": 4,
 "nbformat_minor": 5
}
