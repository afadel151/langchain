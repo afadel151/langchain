{
 "cells": [
  {
   "cell_type": "code",
   "execution_count": 25,
   "id": "0aadc0c4",
   "metadata": {},
   "outputs": [
    {
     "name": "stdout",
     "output_type": "stream",
     "text": [
      "<div hidden=\"\"><!--$--><!--/$--></div>\n"
     ]
    }
   ],
   "source": [
    "from urllib.request import urlopen \n",
    "from bs4 import BeautifulSoup\n",
    "import lxml\n",
    "import lxml.html\n",
    "html = urlopen('https://tailwindcss.com/') \n",
    "bs = BeautifulSoup(html.read(), 'html.parser') \n",
    "print(bs.div)\n",
    "\n",
    "\n"
   ]
  },
  {
   "cell_type": "code",
   "execution_count": 32,
   "id": "30ba9da4",
   "metadata": {},
   "outputs": [],
   "source": [
    "from urllib.request import urlopen \n",
    "from urllib.error import HTTPError, URLError \n",
    "def getTitle(url):\n",
    "    try: \n",
    "        html = urlopen(url) \n",
    "        try:\n",
    "            bs = BeautifulSoup(html,'html.parser')\n",
    "            title = bs.body.h1\n",
    "        except AttributeError as e:\n",
    "            return None\n",
    "        return title\n",
    "    except HTTPError as e: \n",
    "        return None\n",
    "    except URLError as e:\n",
    "        return None\n",
    "    # return null, break, or do some other \"Plan B\" \n"
   ]
  },
  {
   "cell_type": "code",
   "execution_count": 35,
   "id": "2cb42c77",
   "metadata": {},
   "outputs": [
    {
     "name": "stdout",
     "output_type": "stream",
     "text": [
      "<h1 class=\"font-sans babybear:pb-3 font-regular leading-regular text-display-lg text-smoke-70 babybear:text-display-md babybear:text-center\" data-test-id=\"hero__headline\">\n",
      "          Welcome to your professional community\n",
      "        </h1>\n"
     ]
    }
   ],
   "source": [
    "title = getTitle('https://linkedin.com/')\n",
    "if title == None:\n",
    "    print('Title could not be found')\n",
    "else:\n",
    "    print(title)"
   ]
  },
  {
   "cell_type": "code",
   "execution_count": null,
   "id": "d352216b",
   "metadata": {},
   "outputs": [
    {
     "name": "stdout",
     "output_type": "stream",
     "text": [
      "Anna\n",
      "Pavlovna Scherer\n",
      "Empress Marya\n",
      "Fedorovna\n",
      "Prince Vasili Kuragin\n",
      "Anna Pavlovna\n",
      "St. Petersburg\n",
      "the prince\n",
      "Anna Pavlovna\n",
      "Anna Pavlovna\n",
      "the prince\n",
      "the prince\n",
      "the prince\n",
      "Prince Vasili\n",
      "Anna Pavlovna\n",
      "Anna Pavlovna\n",
      "the prince\n",
      "Wintzingerode\n",
      "King of Prussia\n",
      "le Vicomte de Mortemart\n",
      "Montmorencys\n",
      "Rohans\n",
      "Abbe Morio\n",
      "the Emperor\n",
      "the prince\n",
      "Prince Vasili\n",
      "Dowager Empress Marya Fedorovna\n",
      "the baron\n",
      "Anna Pavlovna\n",
      "the Empress\n",
      "the Empress\n",
      "Anna Pavlovna's\n",
      "Her Majesty\n",
      "Baron\n",
      "Funke\n",
      "The prince\n",
      "Anna\n",
      "Pavlovna\n",
      "the Empress\n",
      "The prince\n",
      "Anatole\n",
      "the prince\n",
      "The prince\n",
      "Anna\n",
      "Pavlovna\n",
      "Anna Pavlovna\n"
     ]
    }
   ],
   "source": [
    "content = urlopen('http://www.pythonscraping.com/pages/warandpeace.html')\n",
    "bs = BeautifulSoup(content,'html.parser')\n",
    "#  bs.find_all(tagName, tagAttributes)\n",
    "nameList = bs.find_all('span', {'class':'green'}) \n",
    "for name in nameList:\n",
    "    # separate the content from the tags\n",
    "    print(name.get_text())"
   ]
  }
 ],
 "metadata": {
  "kernelspec": {
   "display_name": "web-scraping",
   "language": "python",
   "name": "python3"
  },
  "language_info": {
   "codemirror_mode": {
    "name": "ipython",
    "version": 3
   },
   "file_extension": ".py",
   "mimetype": "text/x-python",
   "name": "python",
   "nbconvert_exporter": "python",
   "pygments_lexer": "ipython3",
   "version": "3.13.2"
  }
 },
 "nbformat": 4,
 "nbformat_minor": 5
}
