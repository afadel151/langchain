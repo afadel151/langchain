{
 "cells": [
  {
   "cell_type": "code",
   "execution_count": 25,
   "id": "0aadc0c4",
   "metadata": {},
   "outputs": [
    {
     "name": "stdout",
     "output_type": "stream",
     "text": [
      "<div hidden=\"\"><!--$--><!--/$--></div>\n"
     ]
    }
   ],
   "source": [
    "from urllib.request import urlopen \n",
    "from bs4 import BeautifulSoup\n",
    "import lxml\n",
    "import lxml.html\n",
    "html = urlopen('https://tailwindcss.com/') \n",
    "bs = BeautifulSoup(html.read(), 'html.parser') \n",
    "print(bs.div)\n",
    "\n",
    "\n"
   ]
  },
  {
   "cell_type": "code",
   "execution_count": 32,
   "id": "30ba9da4",
   "metadata": {},
   "outputs": [],
   "source": [
    "from urllib.request import urlopen \n",
    "from urllib.error import HTTPError, URLError \n",
    "def getTitle(url):\n",
    "    try: \n",
    "        html = urlopen(url) \n",
    "        try:\n",
    "            bs = BeautifulSoup(html,'html.parser')\n",
    "            title = bs.body.h1\n",
    "        except AttributeError as e:\n",
    "            return None\n",
    "        return title\n",
    "    except HTTPError as e: \n",
    "        return None\n",
    "    except URLError as e:\n",
    "        return None\n",
    "    # return null, break, or do some other \"Plan B\" \n"
   ]
  },
  {
   "cell_type": "code",
   "execution_count": 35,
   "id": "2cb42c77",
   "metadata": {},
   "outputs": [
    {
     "name": "stdout",
     "output_type": "stream",
     "text": [
      "<h1 class=\"font-sans babybear:pb-3 font-regular leading-regular text-display-lg text-smoke-70 babybear:text-display-md babybear:text-center\" data-test-id=\"hero__headline\">\n",
      "          Welcome to your professional community\n",
      "        </h1>\n"
     ]
    }
   ],
   "source": [
    "title = getTitle('https://linkedin.com/')\n",
    "if title == None:\n",
    "    print('Title could not be found')\n",
    "else:\n",
    "    print(title)"
   ]
  },
  {
   "cell_type": "code",
   "execution_count": null,
   "id": "d352216b",
   "metadata": {},
   "outputs": [
    {
     "name": "stdout",
     "output_type": "stream",
     "text": [
      "Anna\n",
      "Pavlovna Scherer\n",
      "Empress Marya\n",
      "Fedorovna\n",
      "Prince Vasili Kuragin\n",
      "Anna Pavlovna\n",
      "St. Petersburg\n",
      "the prince\n",
      "Anna Pavlovna\n",
      "Anna Pavlovna\n",
      "the prince\n",
      "the prince\n",
      "the prince\n",
      "Prince Vasili\n",
      "Anna Pavlovna\n",
      "Anna Pavlovna\n",
      "the prince\n",
      "Wintzingerode\n",
      "King of Prussia\n",
      "le Vicomte de Mortemart\n",
      "Montmorencys\n",
      "Rohans\n",
      "Abbe Morio\n",
      "the Emperor\n",
      "the prince\n",
      "Prince Vasili\n",
      "Dowager Empress Marya Fedorovna\n",
      "the baron\n",
      "Anna Pavlovna\n",
      "the Empress\n",
      "the Empress\n",
      "Anna Pavlovna's\n",
      "Her Majesty\n",
      "Baron\n",
      "Funke\n",
      "The prince\n",
      "Anna\n",
      "Pavlovna\n",
      "the Empress\n",
      "The prince\n",
      "Anatole\n",
      "the prince\n",
      "The prince\n",
      "Anna\n",
      "Pavlovna\n",
      "Anna Pavlovna\n"
     ]
    }
   ],
   "source": [
    "content = urlopen('http://www.pythonscraping.com/pages/warandpeace.html')\n",
    "bs = BeautifulSoup(content,'html.parser')\n",
    "#  bs.find_all(tagName, tagAttributes)\n",
    "nameList = bs.find_all('span', {'class':'green'}) \n",
    "for name in nameList:\n",
    "    # separate the content from the tags\n",
    "    print(name.get_text())"
   ]
  },
  {
   "cell_type": "markdown",
   "id": "37fa00b6",
   "metadata": {},
   "source": [
    "##  The two functions are extremely similar\n",
    "find_all(tag, attrs, recursive, text, limit, **kwargs) \n",
    "\n",
    "find(tag, attrs, recursive, text, **kwargs)"
   ]
  },
  {
   "cell_type": "markdown",
   "id": "2ed05166",
   "metadata": {},
   "source": [
    "Any extra arguments that find or find_all doesn’t recognize will\n",
    "be used as tag attribute matchers. For example"
   ]
  },
  {
   "cell_type": "code",
   "execution_count": 40,
   "id": "495ae363",
   "metadata": {},
   "outputs": [
    {
     "name": "stdout",
     "output_type": "stream",
     "text": [
      "[<span class=\"green\">Anna\n",
      "Pavlovna Scherer</span>, <span class=\"green\">Empress Marya\n",
      "Fedorovna</span>, <span class=\"green\">Prince Vasili Kuragin</span>, <span class=\"green\">Anna Pavlovna</span>, <span class=\"green\">St. Petersburg</span>, <span class=\"green\">the prince</span>, <span class=\"green\">Anna Pavlovna</span>, <span class=\"green\">Anna Pavlovna</span>, <span class=\"green\">the prince</span>, <span class=\"green\">the prince</span>, <span class=\"green\">the prince</span>, <span class=\"green\">Prince Vasili</span>, <span class=\"green\">Anna Pavlovna</span>, <span class=\"green\">Anna Pavlovna</span>, <span class=\"green\">the prince</span>, <span class=\"green\">Wintzingerode</span>, <span class=\"green\">King of Prussia</span>, <span class=\"green\">le Vicomte de Mortemart</span>, <span class=\"green\">Montmorencys</span>, <span class=\"green\">Rohans</span>, <span class=\"green\">Abbe Morio</span>, <span class=\"green\">the Emperor</span>, <span class=\"green\">the prince</span>, <span class=\"green\">Prince Vasili</span>, <span class=\"green\">Dowager Empress Marya Fedorovna</span>, <span class=\"green\">the baron</span>, <span class=\"green\">Anna Pavlovna</span>, <span class=\"green\">the Empress</span>, <span class=\"green\">the Empress</span>, <span class=\"green\">Anna Pavlovna's</span>, <span class=\"green\">Her Majesty</span>, <span class=\"green\">Baron\n",
      "Funke</span>, <span class=\"green\">The prince</span>, <span class=\"green\">Anna\n",
      "Pavlovna</span>, <span class=\"green\">the Empress</span>, <span class=\"green\">The prince</span>, <span class=\"green\">Anatole</span>, <span class=\"green\">the prince</span>, <span class=\"green\">The prince</span>, <span class=\"green\">Anna\n",
      "Pavlovna</span>, <span class=\"green\">Anna Pavlovna</span>]\n"
     ]
    }
   ],
   "source": [
    "title =  bs.find_all(class_='green')\n",
    "print(title)"
   ]
  },
  {
   "cell_type": "markdown",
   "id": "391a049d",
   "metadata": {},
   "source": [
    "## Navigating Trees"
   ]
  },
  {
   "cell_type": "code",
   "execution_count": null,
   "id": "cf8081a6",
   "metadata": {},
   "outputs": [],
   "source": [
    "content = urlopen('http://www.pythonscraping.com/pages/page3.html')\n",
    "bs = BeautifulSoup(content,'html.parser')\n",
    "for child in bs.find('table',{'id':'giftList'}).children:\n",
    "    print(child.get_text())"
   ]
  },
  {
   "cell_type": "code",
   "execution_count": 50,
   "id": "215d80f8",
   "metadata": {},
   "outputs": [
    {
     "name": "stdout",
     "output_type": "stream",
     "text": [
      "\n",
      "\n",
      "<tr class=\"gift\" id=\"gift1\"><td>\n",
      "Vegetable Basket\n",
      "</td><td>\n",
      "This vegetable basket is the perfect gift for your health conscious (or overweight) friends!\n",
      "<span class=\"excitingNote\">Now with super-colorful bell peppers!</span>\n",
      "</td><td>\n",
      "$15.00\n",
      "</td><td>\n",
      "<img src=\"../img/gifts/img1.jpg\"/>\n",
      "</td></tr>\n",
      "\n",
      "\n",
      "<tr class=\"gift\" id=\"gift2\"><td>\n",
      "Russian Nesting Dolls\n",
      "</td><td>\n",
      "Hand-painted by trained monkeys, these exquisite dolls are priceless! And by \"priceless,\" we mean \"extremely expensive\"! <span class=\"excitingNote\">8 entire dolls per set! Octuple the presents!</span>\n",
      "</td><td>\n",
      "$10,000.52\n",
      "</td><td>\n",
      "<img src=\"../img/gifts/img2.jpg\"/>\n",
      "</td></tr>\n",
      "\n",
      "\n",
      "<tr class=\"gift\" id=\"gift3\"><td>\n",
      "Fish Painting\n",
      "</td><td>\n",
      "If something seems fishy about this painting, it's because it's a fish! <span class=\"excitingNote\">Also hand-painted by trained monkeys!</span>\n",
      "</td><td>\n",
      "$10,005.00\n",
      "</td><td>\n",
      "<img src=\"../img/gifts/img3.jpg\"/>\n",
      "</td></tr>\n",
      "\n",
      "\n",
      "<tr class=\"gift\" id=\"gift4\"><td>\n",
      "Dead Parrot\n",
      "</td><td>\n",
      "This is an ex-parrot! <span class=\"excitingNote\">Or maybe he's only resting?</span>\n",
      "</td><td>\n",
      "$0.50\n",
      "</td><td>\n",
      "<img src=\"../img/gifts/img4.jpg\"/>\n",
      "</td></tr>\n",
      "\n",
      "\n",
      "<tr class=\"gift\" id=\"gift5\"><td>\n",
      "Mystery Box\n",
      "</td><td>\n",
      "If you love suprises, this mystery box is for you! Do not place on light-colored surfaces. May cause oil staining. <span class=\"excitingNote\">Keep your friends guessing!</span>\n",
      "</td><td>\n",
      "$1.50\n",
      "</td><td>\n",
      "<img src=\"../img/gifts/img6.jpg\"/>\n",
      "</td></tr>\n",
      "\n",
      "\n"
     ]
    }
   ],
   "source": [
    "content = urlopen('http://www.pythonscraping.com/pages/page3.html')\n",
    "bs = BeautifulSoup(content,'html.parser')\n",
    "for sibling in bs.find('table',{'id':'giftList'}).tr.next_siblings:\n",
    "    print(sibling)"
   ]
  },
  {
   "cell_type": "code",
   "execution_count": 51,
   "id": "f6b62a14",
   "metadata": {},
   "outputs": [],
   "source": [
    "import re"
   ]
  },
  {
   "cell_type": "code",
   "execution_count": null,
   "id": "4a626579",
   "metadata": {},
   "outputs": [
    {
     "name": "stdout",
     "output_type": "stream",
     "text": [
      "#### MATCHES ####\n",
      "Man Utd vs Aston Villa\n",
      "Tottenham vs Man Utd\n",
      "Chelsea vs Man Utd\n",
      "Man Utd vs West Ham\n",
      "Man Utd vs Athletic\n",
      "Brentford vs Man Utd\n",
      "Athletic vs Man Utd\n"
     ]
    }
   ],
   "source": [
    "html = urlopen('https://www.bbc.com/sport/football/teams/manchester-united/scores-fixtures/2025-05')\n",
    "bs = BeautifulSoup(html,'html.parser')\n",
    "home_teams = []\n",
    "away_teams = []\n",
    "for team in bs.find_all('div',{'class': 'ssrcss-1ucldln-StyledTeam-HomeTeam eirdlos1'}):\n",
    "    home_teams.append(team.find('span',{'class':'ssrcss-c8w0oz-MobileValue emlpoi31'}))\n",
    "for team in bs.find_all('div',{'class': 'ssrcss-1d12j2y-StyledTeam-AwayTeam eirdlos0'}):\n",
    "    away_teams.append(team.find('span',{'class':'ssrcss-c8w0oz-MobileValue emlpoi31'}))\n",
    "\n",
    "print('#### MATCHES ####')\n",
    "for i in range(len(home_teams)): \n",
    "    print(f\"{home_teams[i].get_text()} vs {away_teams[i].get_text()}\")\n"
   ]
  }
 ],
 "metadata": {
  "kernelspec": {
   "display_name": "web-scraping",
   "language": "python",
   "name": "python3"
  },
  "language_info": {
   "codemirror_mode": {
    "name": "ipython",
    "version": 3
   },
   "file_extension": ".py",
   "mimetype": "text/x-python",
   "name": "python",
   "nbconvert_exporter": "python",
   "pygments_lexer": "ipython3",
   "version": "3.13.2"
  }
 },
 "nbformat": 4,
 "nbformat_minor": 5
}
