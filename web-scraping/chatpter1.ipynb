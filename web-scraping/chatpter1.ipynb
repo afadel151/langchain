{
 "cells": [
  {
   "cell_type": "code",
   "execution_count": 25,
   "id": "0aadc0c4",
   "metadata": {},
   "outputs": [
    {
     "name": "stdout",
     "output_type": "stream",
     "text": [
      "<div hidden=\"\"><!--$--><!--/$--></div>\n"
     ]
    }
   ],
   "source": [
    "from urllib.request import urlopen \n",
    "from bs4 import BeautifulSoup\n",
    "import lxml\n",
    "import lxml.html\n",
    "html = urlopen('https://tailwindcss.com/') \n",
    "bs = BeautifulSoup(html.read(), 'html.parser') \n",
    "print(bs.div)\n",
    "\n",
    "\n"
   ]
  },
  {
   "cell_type": "code",
   "execution_count": 32,
   "id": "30ba9da4",
   "metadata": {},
   "outputs": [],
   "source": [
    "from urllib.request import urlopen \n",
    "from urllib.error import HTTPError, URLError \n",
    "def getTitle(url):\n",
    "    try: \n",
    "        html = urlopen(url) \n",
    "        try:\n",
    "            bs = BeautifulSoup(html,'html.parser')\n",
    "            title = bs.body.h1\n",
    "        except AttributeError as e:\n",
    "            return None\n",
    "        return title\n",
    "    except HTTPError as e: \n",
    "        return None\n",
    "    except URLError as e:\n",
    "        return None\n",
    "    # return null, break, or do some other \"Plan B\" \n"
   ]
  },
  {
   "cell_type": "code",
   "execution_count": null,
   "id": "2cb42c77",
   "metadata": {},
   "outputs": [
    {
     "name": "stdout",
     "output_type": "stream",
     "text": [
      "<h1 class=\"px-2 text-4xl tracking-tighter text-balance max-lg:font-medium max-sm:px-4 sm:text-5xl lg:text-6xl xl:text-8xl\">Rapidly build modern websites without ever leaving your HTML.</h1>\n"
     ]
    }
   ],
   "source": [
    "title = getTitle('https://tailwindcss.com/')\n",
    "if title == None:\n",
    "    print('Title could not be found')\n",
    "else:\n",
    "    print(title)"
   ]
  }
 ],
 "metadata": {
  "kernelspec": {
   "display_name": "web-scraping",
   "language": "python",
   "name": "python3"
  },
  "language_info": {
   "codemirror_mode": {
    "name": "ipython",
    "version": 3
   },
   "file_extension": ".py",
   "mimetype": "text/x-python",
   "name": "python",
   "nbconvert_exporter": "python",
   "pygments_lexer": "ipython3",
   "version": "3.13.2"
  }
 },
 "nbformat": 4,
 "nbformat_minor": 5
}
