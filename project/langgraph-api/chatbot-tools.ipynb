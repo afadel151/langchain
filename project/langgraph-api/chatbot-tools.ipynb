{
 "cells": [
  {
   "cell_type": "code",
   "execution_count": 7,
   "id": "918e15cc",
   "metadata": {},
   "outputs": [
    {
     "data": {
      "text/plain": [
       "True"
      ]
     },
     "execution_count": 7,
     "metadata": {},
     "output_type": "execute_result"
    }
   ],
   "source": [
    "from dotenv import load_dotenv\n",
    "from langchain.chat_models import init_chat_model\n",
    "from typing import Annotated\n",
    "\n",
    "from typing_extensions import TypedDict\n",
    "\n",
    "from langgraph.graph import StateGraph, START, END\n",
    "from langgraph.graph.message import add_messages\n",
    "load_dotenv()"
   ]
  },
  {
   "cell_type": "markdown",
   "id": "98545448",
   "metadata": {},
   "source": [
    "### Define the web search tool:"
   ]
  },
  {
   "cell_type": "code",
   "execution_count": 2,
   "id": "116235e5",
   "metadata": {},
   "outputs": [
    {
     "name": "stderr",
     "output_type": "stream",
     "text": [
      "c:\\Users\\FADEL\\Documents\\GitHub\\langchain\\project\\langgraph-api\\.venv\\Lib\\site-packages\\langchain_tavily\\tavily_crawl.py:76: SyntaxWarning: invalid escape sequence '\\.'\n",
      "  description=\"\"\"Regex patterns to select only URLs from specific domains or subdomains.\n",
      "c:\\Users\\FADEL\\Documents\\GitHub\\langchain\\project\\langgraph-api\\.venv\\Lib\\site-packages\\langchain_tavily\\tavily_crawl.py:95: SyntaxWarning: invalid escape sequence '\\.'\n",
      "  description=\"\"\"Regex patterns to exclude URLs from specific domains or subdomains.\n",
      "c:\\Users\\FADEL\\Documents\\GitHub\\langchain\\project\\langgraph-api\\.venv\\Lib\\site-packages\\langchain_tavily\\tavily_crawl.py:233: SyntaxWarning: invalid escape sequence '\\.'\n",
      "  \"\"\"Regex patterns to select only URLs from specific domains or subdomains.\n",
      "c:\\Users\\FADEL\\Documents\\GitHub\\langchain\\project\\langgraph-api\\.venv\\Lib\\site-packages\\langchain_tavily\\tavily_crawl.py:243: SyntaxWarning: invalid escape sequence '\\.'\n",
      "  \"\"\"\n",
      "c:\\Users\\FADEL\\Documents\\GitHub\\langchain\\project\\langgraph-api\\.venv\\Lib\\site-packages\\langchain_tavily\\tavily_map.py:76: SyntaxWarning: invalid escape sequence '\\.'\n",
      "  description=\"\"\"Regex patterns to select only URLs from specific domains or subdomains.\n",
      "c:\\Users\\FADEL\\Documents\\GitHub\\langchain\\project\\langgraph-api\\.venv\\Lib\\site-packages\\langchain_tavily\\tavily_map.py:95: SyntaxWarning: invalid escape sequence '\\.'\n",
      "  description=\"\"\"Regex patterns to exclude URLs from specific domains or subdomains.\n",
      "c:\\Users\\FADEL\\Documents\\GitHub\\langchain\\project\\langgraph-api\\.venv\\Lib\\site-packages\\langchain_tavily\\tavily_map.py:217: SyntaxWarning: invalid escape sequence '\\.'\n",
      "  \"\"\"Regex patterns to select only URLs from specific domains or subdomains.\n",
      "c:\\Users\\FADEL\\Documents\\GitHub\\langchain\\project\\langgraph-api\\.venv\\Lib\\site-packages\\langchain_tavily\\tavily_map.py:227: SyntaxWarning: invalid escape sequence '\\.'\n",
      "  \"\"\"\n"
     ]
    }
   ],
   "source": [
    "from langchain_tavily import TavilySearch\n",
    "\n",
    "tool = TavilySearch(max_results=2)\n",
    "tools = [tool]"
   ]
  },
  {
   "cell_type": "code",
   "execution_count": 3,
   "id": "641ec4fe",
   "metadata": {},
   "outputs": [
    {
     "data": {
      "text/plain": [
       "{'query': \"What's a 'node' in LangGraph?\",\n",
       " 'follow_up_questions': None,\n",
       " 'answer': None,\n",
       " 'images': [],\n",
       " 'results': [{'url': 'https://blog.langchain.dev/langgraph/',\n",
       "   'title': 'LangGraph - LangChain Blog',\n",
       "   'content': \"TL;DR: LangGraph is module built on top of LangChain to better enable creation of cyclical graphs, often needed for agent runtimes. This state is updated by nodes in the graph, which return operations to attributes of this state (in the form of a key-value store). After adding nodes, you can then add edges to create the graph. An example of this may be in the basic agent runtime, where we always want the model to be called after we call a tool. The state of this graph by default contains concepts that should be familiar to you if you've used LangChain agents: `input`, `chat_history`, `intermediate_steps` (and `agent_outcome` to represent the most recent agent outcome)\",\n",
       "   'score': 0.7407191,\n",
       "   'raw_content': None},\n",
       "  {'url': 'https://medium.com/@cplog/introduction-to-langgraph-a-beginners-guide-14f9be027141',\n",
       "   'title': \"Introduction to LangGraph: A Beginner's Guide - Medium\",\n",
       "   'content': '*   **Stateful Graph:** LangGraph revolves around the concept of a stateful graph, where each node in the graph represents a step in your computation, and the graph maintains a state that is passed around and updated as the computation progresses. LangGraph supports conditional edges, allowing you to dynamically determine the next node to execute based on the current state of the graph. Image 10: Introduction to AI Agent with LangChain and LangGraph: A Beginner’s Guide Image 18: How to build LLM Agent with LangGraph\\u200a—\\u200aStateGraph and Reducer Image 20: Simplest Graphs using LangGraph Framework Image 24: Building a ReAct Agent with Langgraph: A Step-by-Step Guide Image 28: Building an Agentic RAG with LangGraph: A Step-by-Step Guide',\n",
       "   'score': 0.65252984,\n",
       "   'raw_content': None}],\n",
       " 'response_time': 1.09}"
      ]
     },
     "execution_count": 3,
     "metadata": {},
     "output_type": "execute_result"
    }
   ],
   "source": [
    "tool.invoke(\"What's a 'node' in LangGraph?\")"
   ]
  },
  {
   "cell_type": "code",
   "execution_count": 6,
   "id": "7fbf7a74",
   "metadata": {},
   "outputs": [],
   "source": [
    "llm = init_chat_model(\"google_genai:gemini-2.0-flash\")"
   ]
  },
  {
   "cell_type": "code",
   "execution_count": 8,
   "id": "20ad9ab8",
   "metadata": {},
   "outputs": [],
   "source": [
    "class State(TypedDict):\n",
    "    messages: Annotated[list, add_messages]"
   ]
  },
  {
   "cell_type": "code",
   "execution_count": 10,
   "id": "71c9e435",
   "metadata": {},
   "outputs": [],
   "source": [
    "graph_builder = StateGraph(State)"
   ]
  },
  {
   "cell_type": "code",
   "execution_count": 11,
   "id": "73d29ddd",
   "metadata": {},
   "outputs": [],
   "source": [
    "llm_with_tools = llm.bind_tools(tools)"
   ]
  },
  {
   "cell_type": "code",
   "execution_count": 12,
   "id": "107c9de5",
   "metadata": {},
   "outputs": [],
   "source": [
    "def chatbot(state: State):\n",
    "    return {\"messages\": [llm_with_tools.invoke(state[\"messages\"])]}"
   ]
  },
  {
   "cell_type": "code",
   "execution_count": 13,
   "id": "43556813",
   "metadata": {},
   "outputs": [
    {
     "data": {
      "text/plain": [
       "<langgraph.graph.state.StateGraph at 0x1bd21734f50>"
      ]
     },
     "execution_count": 13,
     "metadata": {},
     "output_type": "execute_result"
    }
   ],
   "source": [
    "graph_builder.add_node(\"chatbot\", chatbot)"
   ]
  }
 ],
 "metadata": {
  "kernelspec": {
   "display_name": "langgraph-api",
   "language": "python",
   "name": "python3"
  },
  "language_info": {
   "codemirror_mode": {
    "name": "ipython",
    "version": 3
   },
   "file_extension": ".py",
   "mimetype": "text/x-python",
   "name": "python",
   "nbconvert_exporter": "python",
   "pygments_lexer": "ipython3",
   "version": "3.13.2"
  }
 },
 "nbformat": 4,
 "nbformat_minor": 5
}
